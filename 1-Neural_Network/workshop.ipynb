{
 "cells": [
  {
   "cell_type": "markdown",
   "metadata": {},
   "source": [
    "## Construction du Réseau de Neurones"
   ]
  },
  {
   "cell_type": "markdown",
   "metadata": {},
   "source": [
    "Cette fonction génère un petit réseau de neurone aléatoirement. Essayez de comprendre les couche de ce reseaux et de répondre aux différentes questions"
   ]
  },
  {
   "cell_type": "code",
   "execution_count": null,
   "metadata": {},
   "outputs": [],
   "source": [
    "import random\n",
    "from tensorflow import keras\n",
    "\n",
    "def generation_reseau_neurones():\n",
    "    nombre_layers = random.randint(2, 5)\n",
    "    network = keras.models.Sequential()\n",
    "    \n",
    "    for _ in range(nombre_layers):\n",
    "        nombre_neurons = random.randint(10, 100)\n",
    "        activation_choice = random.choice(['relu', 'sigmoid', 'tanh'])\n",
    "        new_couche = keras.layers.Dense(nombre_neurons, activation=activation_choice)\n",
    "        network.add(new_couche)\n",
    "    \n",
    "    dropout_rate = random.uniform(0.2, 0.5)\n",
    "    network.add(keras.layers.Dropout(dropout_rate))\n",
    "    \n",
    "    network.compile(optimizer='adam', loss='mse', metrics=['accuracy'])\n",
    "    network.build(input_shape=[1,1])\n",
    "    \n",
    "    return network\n",
    "\n",
    "network = generation_reseau_neurones()\n",
    "network"
   ]
  },
  {
   "cell_type": "markdown",
   "metadata": {},
   "source": [
    "1. Expliquer de façon general comment est construit le reseau de neurone\n",
    "\n",
    "\n",
    "2. Expliquer ce que fait la ligne 5. Que contient la variable nombre_layers ?\n",
    "\n",
    "\n",
    "3. Expliquer ce que fait la ligne 6. Que fait la class Sequential() ?\n",
    "\n",
    "\n",
    "4. Etudier la boucle **for**. Decrire ce que produit cette boucle **for**\n",
    "\n",
    "\n",
    "5. Dans la boucle **for** que contiendra la variable ***activation_choice*** ?\n",
    "\n",
    "\n",
    "6. Expliquer les similitude et les differences entre les 3 methodes d'activation à la ligne 10. Laquelle est la plus opportune selon vous ?\n",
    "\n",
    "\n",
    "7. A la ligne 11, décrire et expliquer la class Dense(). A quoi corespond t elle ? De combien de neurones est elle composée ?\n",
    "\n",
    "\n",
    "8. A la ligne 11, que fait la methode add() ?\n",
    "\n",
    "\n",
    "9. A la ligne 13, a quoi correspond la variable ***dropout_rate*** ? Que veut dire un dropout_rate = 0.5 ?\n",
    "\n",
    "\n",
    "10. A la ligne 14, decrire et expliquer la class Droptout(). Que fait elle ?\n",
    "\n",
    "\n",
    "11. Expliquer la méthode compile() à la ligne 16. A quoi sert elle ?\n",
    "\n",
    "\n",
    "12. A la ligne 16, le parametre ***optimizer*** est réglé sur 'adam'. A quoi correspond 'adam' ? qu'est ce que 'adam' optimise ?\n",
    "\n",
    "\n",
    "13. A la ligne 16, le parametre ***loss*** est réglé sur 'mse'. A quoi correspond 'mse' ? qu'est ce que le parametre ***loss*** fait ?\n",
    "\n",
    "14. A la ligne 16, le parametre ***metrics*** est réglé sur ['accuracy']. A quoi correspond 'accuracy' ? qu'est ce que le parametre ***metrics*** fait ?"
   ]
  },
  {
   "cell_type": "code",
   "execution_count": null,
   "metadata": {},
   "outputs": [],
   "source": [
    "network.summary()"
   ]
  },
  {
   "cell_type": "markdown",
   "metadata": {},
   "source": [
    "15. Combien il y a t-il de couche dans votre reseau ? Donner le nom de la couche, sa specificité (type) ainsi que le nombre de neurones qui la compose\n",
    "\n",
    "16. Donnée le nombre de parametre entrainable de votre reseau de neurone"
   ]
  },
  {
   "cell_type": "markdown",
   "metadata": {},
   "source": [
    "17. Comparer visuellement les différentes fonctions d’activation :\n",
    "* Sigmoïde\n",
    "* Tanh\n",
    "* ReLU\n",
    "* Leaky ReLU (𝛼=0.01)\n",
    "* Softmax (pour un vecteur d'entrée)"
   ]
  }
 ],
 "metadata": {
  "kernelspec": {
   "display_name": "Python 3",
   "language": "python",
   "name": "python3"
  },
  "language_info": {
   "codemirror_mode": {
    "name": "ipython",
    "version": 3
   },
   "file_extension": ".py",
   "mimetype": "text/x-python",
   "name": "python",
   "nbconvert_exporter": "python",
   "pygments_lexer": "ipython3",
   "version": "3.11.9"
  }
 },
 "nbformat": 4,
 "nbformat_minor": 2
}
