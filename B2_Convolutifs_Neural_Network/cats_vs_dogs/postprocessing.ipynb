{
 "cells": [
  {
   "cell_type": "markdown",
   "metadata": {},
   "source": [
    "# Charger le modèle depuis le fichier .h5"
   ]
  },
  {
   "cell_type": "code",
   "execution_count": null,
   "metadata": {
    "vscode": {
     "languageId": "plaintext"
    }
   },
   "outputs": [],
   "source": [
    "model = # A COMPLETER\n",
    "print(\"Modèle chargé avec succès.\")"
   ]
  },
  {
   "cell_type": "markdown",
   "metadata": {},
   "source": [
    "# Vérifier la structure du modèle pour identifier la dernière couche de convolution"
   ]
  },
  {
   "cell_type": "code",
   "execution_count": null,
   "metadata": {
    "vscode": {
     "languageId": "plaintext"
    }
   },
   "outputs": [],
   "source": [
    "model.summary()"
   ]
  },
  {
   "cell_type": "markdown",
   "metadata": {},
   "source": [
    "# Générer la carte de chaleur Grad-CAM"
   ]
  },
  {
   "cell_type": "code",
   "execution_count": null,
   "metadata": {
    "vscode": {
     "languageId": "plaintext"
    }
   },
   "outputs": [],
   "source": [
    "import cv2\n",
    "import numpy as np\n",
    "import matplotlib.pyplot as plt\n",
    "from tensorflow.keras.models import Model\n",
    "\n",
    "def make_gradcam_heatmap(img_array, model, last_conv_layer_name):\n",
    "    # Obtenir le modèle pour la carte de chaleur Grad-CAM\n",
    "    grad_model = Model(\n",
    "        [model.inputs], \n",
    "        [model.get_layer(last_conv_layer_name).output, model.output]\n",
    "    )\n",
    "\n",
    "    # Calculer le gradient de la classe prédite par rapport à la dernière couche de convolution\n",
    "    with tf.GradientTape() as tape:\n",
    "        conv_outputs, predictions = grad_model(img_array)\n",
    "        predicted_class = tf.argmax(predictions[0])\n",
    "        loss = predictions[:, predicted_class]\n",
    "\n",
    "    grads = tape.gradient(loss, conv_outputs)\n",
    "\n",
    "    # Calculer la moyenne des gradients le long de l'axe de profondeur (canal)\n",
    "    pooled_grads = tf.reduce_mean(grads, axis=(0, 1, 2))\n",
    "\n",
    "    # Multiplier chaque canal par son poids moyen\n",
    "    conv_outputs = conv_outputs[0]\n",
    "    heatmap = tf.reduce_sum(conv_outputs * pooled_grads, axis=-1)\n",
    "\n",
    "    # Appliquer ReLU pour ne conserver que les valeurs positives\n",
    "    heatmap = tf.maximum(heatmap, 0)\n",
    "\n",
    "    # Normaliser la carte de chaleur\n",
    "    heatmap /= tf.reduce_max(heatmap)\n",
    "    return heatmap.numpy()"
   ]
  },
  {
   "cell_type": "markdown",
   "metadata": {},
   "source": [
    "# Fonction pour superposer la carte de chaleur sur l'image originale"
   ]
  },
  {
   "cell_type": "code",
   "execution_count": null,
   "metadata": {
    "vscode": {
     "languageId": "plaintext"
    }
   },
   "outputs": [],
   "source": [
    "def superimpose_heatmap(img, heatmap, alpha=0.4):\n",
    "    heatmap = cv2.resize(heatmap, (img.shape[1], img.shape[0]))\n",
    "    heatmap = np.uint8(255 * heatmap)\n",
    "    heatmap = cv2.applyColorMap(heatmap, cv2.COLORMAP_JET)\n",
    "    superimposed_img = cv2.addWeighted(img, 1 - alpha, heatmap, alpha, 0)\n",
    "    return superimposed_img"
   ]
  },
  {
   "cell_type": "markdown",
   "metadata": {},
   "source": [
    "# Test"
   ]
  },
  {
   "cell_type": "code",
   "execution_count": null,
   "metadata": {
    "vscode": {
     "languageId": "plaintext"
    }
   },
   "outputs": [],
   "source": [
    "# Charger une image de test\n",
    "image_path = random.choice(random_images)\n",
    "img = tf.keras.utils.load_img(image_path, target_size=(256, 256))\n",
    "img_array = tf.keras.utils.img_to_array(img)\n",
    "img_array = np.expand_dims(img_array, axis=0) / 255.0\n",
    "prediction = model.predict(img_array)\n",
    "\n",
    "# Générer la carte de chaleur\n",
    "heatmap = make_gradcam_heatmap(img_array, model, last_conv_layer_name=\"conv2d_2\")\n",
    "\n",
    "# Superposer la carte de chaleur sur l'image originale\n",
    "superimposed_img = superimpose_heatmap(np.array(img, dtype=np.uint8), heatmap)\n",
    "\n",
    "# Afficher l'image avec la carte de chaleur\n",
    "plt.figure(figsize=(10, 10))\n",
    "plt.imshow(superimposed_img)\n",
    "plt.title(\"Carte de chaleur Grad-CAM\")\n",
    "plt.axis(\"off\")\n",
    "plt.show()"
   ]
  }
 ],
 "metadata": {
  "language_info": {
   "name": "python"
  }
 },
 "nbformat": 4,
 "nbformat_minor": 2
}
