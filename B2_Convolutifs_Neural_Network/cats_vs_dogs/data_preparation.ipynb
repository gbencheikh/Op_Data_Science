{
 "cells": [
  {
   "cell_type": "markdown",
   "metadata": {},
   "source": [
    "# 1. Télécharger les données depuis Kaggle"
   ]
  },
  {
   "cell_type": "code",
   "execution_count": null,
   "metadata": {},
   "outputs": [],
   "source": [
    "!kaggle competitions download -c dogs-vs-cats"
   ]
  },
  {
   "cell_type": "markdown",
   "metadata": {},
   "source": [
    "## 1.1 Décompresser les dossiers"
   ]
  },
  {
   "cell_type": "code",
   "execution_count": null,
   "metadata": {},
   "outputs": [],
   "source": [
    "import zipfile\n",
    "\n",
    "with zipfile.ZipFile(\"dogs-vs-cats.zip\", 'r') as zip_ref:\n",
    "    zip_ref.extractall(\"dogs-vs-cats\")\n",
    "\n",
    "### Vérifier les Fichiers Décompressés\n",
    "print(os.listdir(\"dogs-vs-cats\"))"
   ]
  },
  {
   "cell_type": "markdown",
   "metadata": {},
   "source": [
    "## 1.2 Extraire les fichiers .ZIP"
   ]
  },
  {
   "cell_type": "code",
   "execution_count": null,
   "metadata": {},
   "outputs": [],
   "source": [
    "train_dir = #A COMPLETER \n",
    "test_dir = #A COMPLETER\n",
    "\n",
    "# Extraire le fichier train.zip\n",
    "with zipfile.ZipFile(train_dir+\".zip\", 'r') as zip_ref:\n",
    "    zip_ref.extractall(train_dir)\n",
    "\n",
    "# Extraire le fichier test1.zip\n",
    "with zipfile.ZipFile(test_dir+\".zip\", 'r') as zip_ref:\n",
    "    zip_ref.extractall(test_dir)\n",
    "\n",
    "train_num_images = #A COMPLETER\n",
    "test_num_images = #A COMPLETER\n",
    "\n",
    "print(f\"found {train_num_images} images in 'train' folder.\")\n",
    "print(f\"found {test_num_images} images in 'test' folder.\")"
   ]
  },
  {
   "cell_type": "markdown",
   "metadata": {},
   "source": [
    "## 1.3 Organisation des images pour l'apprentissage automatique"
   ]
  },
  {
   "cell_type": "markdown",
   "metadata": {},
   "source": [
    "Vous avez téléchargé un ensemble de données contenant des images de chats et de chiens, et ces images sont stockées dans un dossier nommé \"train\". Chaque image est étiquetée dans son nom de fichier, par exemple \"cat.0.jpg\" pour les chats et \"dog.0.jpg\" pour les chiens. Afin de préparer ces données pour un apprentissage automatique, il est nécessaire de les organiser dans des dossiers distincts pour chaque classe (chat et chien).\n",
    "\n",
    "<blockquote>\n",
    "\n",
    "<ul>\n",
    "\n",
    "<li>Créez un répertoire principal nommé `DATASET` dans lequel vous allez stocker les images.</li>\n",
    "<li>À l’intérieur du répertoire `DATASET`, créez deux sous-dossiers : 'cats' et 'dogs'\n",
    "<li> Parcourez les fichiers du dossier `train` et vérifiez que chaque fichier est une image au format `.jpg`.</li>\n",
    "<li> Déplacez les images dans les dossiers appropriés.</li>\n",
    "<li> Assurez-vous que les images sont bien déplacées et que chaque catégorie (cats et dogs) a ses images dans son dossier respectif.</li>\n",
    "\n",
    "</ul>\n",
    "Une fois cette organisation terminée, vos données seront prêtes pour l'apprentissage automatique.\n",
    "</blockquote>"
   ]
  },
  {
   "cell_type": "code",
   "execution_count": 1,
   "metadata": {},
   "outputs": [],
   "source": [
    "import os\n",
    "import shutil\n",
    "\n",
    "#1. Créez un répertoire principal nommé `DATASET`\n",
    "os.mkdir(\"DATASET\", exist_ok=True)\n",
    "\n",
    "#2. Créer deux sous dossiers 'cats' et 'dogs'\n",
    "cats_dir = #A COMPLETER\n",
    "dogs_dir = #A COMPLETER\n",
    "\n",
    "os.makedirs(cats_dir, exist_ok=True)\n",
    "os.makedirs(dogs_dir, exist_ok=True)\n",
    "\n",
    "#3. Parcours des fichiers dans le dossier train\n",
    "for filename in os.listdir(train_dir):\n",
    "    if filename.endswith(\".jpg\"):  \n",
    "        # Vérifier si le nom de fichier contient \"cat\" ou \"dog\"\n",
    "        if \"cat\" in filename:\n",
    "            # Déplacer l'image dans le dossier des chats\n",
    "            # A COMPLETER\n",
    "        elif \"dog\" in filename:\n",
    "            # Déplacer l'image dans le dossier des chiens\n",
    "            # A COMPLETER\n",
    "\n",
    "print(\"Les images ont été organisées dans les dossiers cats et dogs.\")"
   ]
  }
 ],
 "metadata": {
  "kernelspec": {
   "display_name": "Python 3",
   "language": "python",
   "name": "python3"
  },
  "language_info": {
   "codemirror_mode": {
    "name": "ipython",
    "version": 3
   },
   "file_extension": ".py",
   "mimetype": "text/x-python",
   "name": "python",
   "nbconvert_exporter": "python",
   "pygments_lexer": "ipython3",
   "version": "3.11.9"
  }
 },
 "nbformat": 4,
 "nbformat_minor": 2
}
