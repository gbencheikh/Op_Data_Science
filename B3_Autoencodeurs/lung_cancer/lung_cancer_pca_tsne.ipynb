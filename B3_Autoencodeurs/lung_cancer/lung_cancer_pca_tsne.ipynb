{
 "cells": [
  {
   "cell_type": "markdown",
   "metadata": {},
   "source": [
    "# Visualisation de données multidimensionnelles et réduction de variables"
   ]
  },
  {
   "cell_type": "markdown",
   "metadata": {},
   "source": [
    "Nous allons effectuer une analyse des données d'expression génique dans le cancer du poumon en utilisant des méthodes d'apprentissage automatique non supervisées : l'Analyse en Composantes Principales (ACP) et le t-SNE.\n",
    "\n",
    "Ces techniques permettent de projeter des données multidimensionnelles en 2 ou 3 dimensions afin de les visualiser plus facilement. Elles sont également utiles pour réduire le nombre de variables, éliminer les corrélations et atténuer le bruit."
   ]
  },
  {
   "cell_type": "markdown",
   "metadata": {},
   "source": [
    "# 1. Importer les données"
   ]
  },
  {
   "cell_type": "markdown",
   "metadata": {},
   "source": [
    "Les données sont stockées dans le fichier lung_cancer.csv."
   ]
  },
  {
   "cell_type": "code",
   "execution_count": null,
   "metadata": {},
   "outputs": [],
   "source": [
    "import pandas as pd\n",
    "\n",
    "data = pd.read_csv('lung_cancer.csv', sep=';', index_col='id_sample')\n",
    "print('data', data.shape)"
   ]
  },
  {
   "cell_type": "code",
   "execution_count": null,
   "metadata": {},
   "outputs": [],
   "source": [
    "data.head()"
   ]
  },
  {
   "cell_type": "markdown",
   "metadata": {},
   "source": [
    "# Analyse de données"
   ]
  },
  {
   "cell_type": "markdown",
   "metadata": {},
   "source": [
    "Pour examiner la distribution des échantillons dans chaque sous-type moléculaire, nous utilisons la méthode groupby de Pandas."
   ]
  },
  {
   "cell_type": "code",
   "execution_count": null,
   "metadata": {},
   "outputs": [],
   "source": [
    "data.groupby(['class']).size()"
   ]
  },
  {
   "cell_type": "code",
   "execution_count": null,
   "metadata": {},
   "outputs": [],
   "source": [
    "data.groupby(['class']).size().plot(kind = \"bar\")"
   ]
  },
  {
   "cell_type": "markdown",
   "metadata": {},
   "source": [
    "On observe que les données ne sont pas réparties de manière homogène en fonction du type de cancer."
   ]
  },
  {
   "cell_type": "markdown",
   "metadata": {},
   "source": [
    "# 2. Séparer les données d’expression et les étiquettes"
   ]
  },
  {
   "cell_type": "markdown",
   "metadata": {},
   "source": [
    "Pour faciliter les calculs sur les données d'expression, il est préférable de séparer les valeurs numériques (expressions géniques) des étiquettes des sous-types moléculaires (class) en deux objets distincts.\n",
    "\n",
    "Conformément aux conventions de scikit-learn, nous nommons la matrice de données d'expression X et les étiquettes associées y."
   ]
  },
  {
   "cell_type": "code",
   "execution_count": null,
   "metadata": {},
   "outputs": [],
   "source": [
    "X = data.select_dtypes('number') \n",
    "print('X', X.shape)\n",
    "\n",
    "y = data['class']\n",
    "print('y', y.shape)"
   ]
  },
  {
   "cell_type": "markdown",
   "metadata": {},
   "source": [
    "# 3. Afficher les valeurs d'expression"
   ]
  },
  {
   "cell_type": "markdown",
   "metadata": {},
   "source": [
    "Le code suivant permet d'afficher les valeurs d'expression de chaque gène, triées par moyenne."
   ]
  },
  {
   "cell_type": "code",
   "execution_count": null,
   "metadata": {},
   "outputs": [],
   "source": [
    "sort_by_mean = X.mean().sort_values(ascending=True)\n",
    "X[sort_by_mean.index].plot(kind='box', figsize=(15, 4), rot=90, ylabel='Expression')"
   ]
  },
  {
   "cell_type": "markdown",
   "metadata": {},
   "source": [
    "Certains gènes présentent une grande variation d'expression, tandis que d'autres sont plus stables. Ces différences de variance peuvent fortement influencer l'ACP, car cette méthode repose essentiellement sur la variance des données.\n",
    "Par conséquent, il est indispensable de normaliser (standardiser) les données avant de réaliser l'ACP."
   ]
  },
  {
   "cell_type": "markdown",
   "metadata": {},
   "source": [
    "# 4. Appliquer une normalisation centrée-réduite aux données "
   ]
  },
  {
   "cell_type": "markdown",
   "metadata": {},
   "source": [
    "La normalisation centrée-réduite consiste à soustraire la moyenne et à diviser les valeurs d'expression par l'écart-type. Cela peut être réalisé avec l'objet StandardScaler de la bibliothèque scikit-learn."
   ]
  },
  {
   "cell_type": "code",
   "execution_count": 9,
   "metadata": {},
   "outputs": [],
   "source": [
    "from sklearn.preprocessing import StandardScaler\n",
    "\n",
    "scaler = StandardScaler() \n",
    "X_scaled = scaler.fit_transform(X) \n",
    "X_scaled = pd.DataFrame(X_scaled, index=X.index, columns=X.columns) "
   ]
  },
  {
   "cell_type": "markdown",
   "metadata": {},
   "source": [
    "Après normalisation, les valeurs d'expression sont ramenées à la même échelle : chaque gène a une moyenne égale à 0 et un écart-type égal à 1."
   ]
  },
  {
   "cell_type": "code",
   "execution_count": null,
   "metadata": {},
   "outputs": [],
   "source": [
    "X_scaled.plot(kind='box', figsize=(15, 4), rot=90, ylabel='Expression')"
   ]
  },
  {
   "cell_type": "markdown",
   "metadata": {},
   "source": [
    "# 5. Faire une analyse en composantes principales (ACP)"
   ]
  },
  {
   "cell_type": "markdown",
   "metadata": {},
   "source": [
    "Le calcul de l'ACP peut se faire à l'aide de l'objet `PCA` de `scikit-learn`."
   ]
  },
  {
   "cell_type": "code",
   "execution_count": 11,
   "metadata": {},
   "outputs": [],
   "source": [
    "from sklearn.decomposition import PCA"
   ]
  },
  {
   "cell_type": "markdown",
   "metadata": {},
   "source": [
    "## 5.1  Calcul de l'ACP"
   ]
  },
  {
   "cell_type": "markdown",
   "metadata": {},
   "source": [
    "Pour calculer une ACP, on utilise les données standardisées **X_scaled**."
   ]
  },
  {
   "cell_type": "code",
   "execution_count": 12,
   "metadata": {},
   "outputs": [],
   "source": [
    "pca = PCA() \n",
    "X_pca = pca.fit_transform(X_scaled) "
   ]
  },
  {
   "cell_type": "markdown",
   "metadata": {},
   "source": [
    "Pour faciliter l'exploitation des résultats, ceux-ci sont convertis en DataFrame Pandas avec des colonnes nommées de PC1 à PCn."
   ]
  },
  {
   "cell_type": "code",
   "execution_count": null,
   "metadata": {},
   "outputs": [],
   "source": [
    "pca_columns = ['PC' + str(c) for c in range(1, X_pca.shape[1]+1, 1)] \n",
    "X_pca = pd.DataFrame(X_pca, index=X.index, columns=pca_columns) \n",
    "X_pca.head()"
   ]
  },
  {
   "cell_type": "markdown",
   "metadata": {},
   "source": [
    "## 5.2 Calcul de la variance expliquée"
   ]
  },
  {
   "cell_type": "markdown",
   "metadata": {},
   "source": [
    "Les variances expliquées par chaque composante peuvent être converties en un objet Series de Pandas et présentées sous forme de pourcentage."
   ]
  },
  {
   "cell_type": "code",
   "execution_count": null,
   "metadata": {},
   "outputs": [],
   "source": [
    "explained_variance = pd.Series(dict(zip(X_pca.columns, 100.0*pca.explained_variance_ratio_)))\n",
    "print(explained_variance.head())"
   ]
  },
  {
   "cell_type": "code",
   "execution_count": null,
   "metadata": {},
   "outputs": [],
   "source": [
    "explained_variance.plot(kind='bar', figsize=(15, 4), rot=90, ylabel='Explained variance')"
   ]
  },
  {
   "cell_type": "markdown",
   "metadata": {},
   "source": [
    "## 5.3 Visualisation des deux premières composantes principales de l’ACP"
   ]
  },
  {
   "cell_type": "code",
   "execution_count": null,
   "metadata": {},
   "outputs": [],
   "source": [
    "X_pca.plot(x='PC1', y='PC2', kind='scatter', figsize=(5, 5), color='gray')"
   ]
  },
  {
   "cell_type": "markdown",
   "metadata": {},
   "source": [
    "Les points se regroupent naturellement en clusters distincts, avec deux regroupements particulièrement visibles. Nous utilisons différentes couleurs pour chaque sous-type moléculaire afin de mieux interpréter ces regroupements."
   ]
  },
  {
   "cell_type": "code",
   "execution_count": null,
   "metadata": {},
   "outputs": [],
   "source": [
    "dict_colors = {'ADK': 'forestgreen', 'NTL': 'royalblue', 'SQC': 'orange'} \n",
    "y_colors = [dict_colors[yi] for yi in y]\n",
    "X_pca.plot(x='PC1', y='PC2', kind='scatter', figsize=(5, 5), color=y_colors)"
   ]
  },
  {
   "cell_type": "markdown",
   "metadata": {},
   "source": [
    "## 5.4 Visualisation des trois premières composantes principales de l’ACP"
   ]
  },
  {
   "cell_type": "code",
   "execution_count": 23,
   "metadata": {},
   "outputs": [],
   "source": [
    "%matplotlib inline\n",
    "import matplotlib.pyplot as plt\n",
    "from mpl_toolkits.mplot3d import Axes3D"
   ]
  },
  {
   "cell_type": "code",
   "execution_count": null,
   "metadata": {},
   "outputs": [],
   "source": [
    "fig = plt.figure(figsize=(5, 5))\n",
    "ax = fig.add_subplot(projection='3d')\n",
    "ax.scatter(X_pca['PC1'], X_pca['PC2'], X_pca['PC3'], marker='o', s=30, edgecolor='k', facecolor=y_colors)\n",
    "ax.set_xlabel('PC1 - ' + '{:.1f}%'.format(explained_variance['PC1']))\n",
    "ax.set_ylabel('PC2 - ' + '{:.1f}%'.format(explained_variance['PC2']))\n",
    "ax.set_zlabel('PC3 - ' + '{:.1f}%'.format(explained_variance['PC3']))\n",
    "ax.view_init(elev=15, azim=45)"
   ]
  },
  {
   "cell_type": "markdown",
   "metadata": {},
   "source": [
    "# 6. Visualiser les données avec la méthode t-SNE"
   ]
  },
  {
   "cell_type": "code",
   "execution_count": 25,
   "metadata": {},
   "outputs": [],
   "source": [
    "from sklearn.manifold import TSNE"
   ]
  },
  {
   "cell_type": "markdown",
   "metadata": {},
   "source": [
    "## 6.1 Projection 2D"
   ]
  },
  {
   "cell_type": "code",
   "execution_count": 26,
   "metadata": {},
   "outputs": [],
   "source": [
    "tsne = TSNE(n_components=2, init='pca', random_state=0, n_jobs=-1)\n",
    "X_tsne = tsne.fit_transform(X_scaled)"
   ]
  },
  {
   "cell_type": "code",
   "execution_count": null,
   "metadata": {},
   "outputs": [],
   "source": [
    "columns = ['DIM' + str(c) for c in range(1, X_tsne.shape[1]+1, 1)]\n",
    "X_tsne = pd.DataFrame(X_tsne, index=X.index, columns=columns)\n",
    "X_tsne.head()"
   ]
  },
  {
   "cell_type": "code",
   "execution_count": null,
   "metadata": {},
   "outputs": [],
   "source": [
    "X_tsne.plot(x='DIM1', y='DIM2', kind='scatter', figsize=(5, 5), color=y_colors)"
   ]
  },
  {
   "cell_type": "code",
   "execution_count": null,
   "metadata": {},
   "outputs": [],
   "source": [
    "# La divergence de Kullback-Leibler après optimisation\n",
    "tsne.kl_divergence_"
   ]
  },
  {
   "cell_type": "markdown",
   "metadata": {},
   "source": [
    "## 6.2 Projection 3D"
   ]
  },
  {
   "cell_type": "code",
   "execution_count": 30,
   "metadata": {},
   "outputs": [],
   "source": [
    "tsne = TSNE(n_components=3, init='pca', perplexity=45, random_state=0, n_jobs=-1)\n",
    "X_tsne = tsne.fit_transform(X_scaled)"
   ]
  },
  {
   "cell_type": "code",
   "execution_count": null,
   "metadata": {},
   "outputs": [],
   "source": [
    "columns = ['DIM' + str(c) for c in range(1, X_tsne.shape[1]+1, 1)]\n",
    "X_tsne = pd.DataFrame(X_tsne, index=X.index, columns=columns)\n",
    "X_tsne.head()"
   ]
  },
  {
   "cell_type": "code",
   "execution_count": null,
   "metadata": {},
   "outputs": [],
   "source": [
    "fig = plt.figure(figsize=(5, 5))\n",
    "ax = fig.add_subplot(projection='3d')\n",
    "ax.scatter(X_tsne['DIM1'], X_tsne['DIM2'], X_tsne['DIM3'], marker='o', s=30, edgecolor='k', facecolor=y_colors)\n",
    "ax.set_xlabel('DIM1')\n",
    "ax.set_ylabel('DIM2')\n",
    "ax.set_zlabel('DIM3')\n",
    "ax.view_init(elev=15, azim=45)"
   ]
  },
  {
   "cell_type": "code",
   "execution_count": null,
   "metadata": {},
   "outputs": [],
   "source": [
    "tsne.kl_divergence_"
   ]
  }
 ],
 "metadata": {
  "kernelspec": {
   "display_name": "Python 3",
   "language": "python",
   "name": "python3"
  },
  "language_info": {
   "codemirror_mode": {
    "name": "ipython",
    "version": 3
   },
   "file_extension": ".py",
   "mimetype": "text/x-python",
   "name": "python",
   "nbconvert_exporter": "python",
   "pygments_lexer": "ipython3",
   "version": "3.11.9"
  }
 },
 "nbformat": 4,
 "nbformat_minor": 4
}
